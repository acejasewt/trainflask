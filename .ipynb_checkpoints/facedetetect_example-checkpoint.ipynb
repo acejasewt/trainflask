{
 "cells": [
  {
   "cell_type": "code",
   "execution_count": 2,
   "metadata": {},
   "outputs": [],
   "source": [
    "import cv2"
   ]
  },
  {
   "cell_type": "code",
   "execution_count": 8,
   "metadata": {},
   "outputs": [
    {
     "name": "stdout",
     "output_type": "stream",
     "text": [
      "detected\n"
     ]
    }
   ],
   "source": [
    "# 視訊來源，可以來自一段已存好的位置ˋ，也可以直接來自USB攝像頭\n",
    "cap = cv2.VideoCapture(0) # 0為第一隻攝像頭，1為第二隻，也可填入影片位置\n",
    "# 導入人臉辨識工具\n",
    "face_cascade =  cv2.CascadeClassifier(cv2.data.haarcascades + 'haarcascade_frontalface_default.xml')\n",
    "eye_cascade = cv2.CascadeClassifier(cv2.data.haarcascades + 'haarcascade_eye.xml')\n",
    "\n",
    "# 檢測攝像頭是不是開啟的\n",
    "while cap.isOpened():\n",
    "    \n",
    "    # ret傳回值為畫面傳回成功與否，frame為攝影機的畫面\n",
    "    ret,frame = cap.read()\n",
    "    # 將圖片轉為灰階\n",
    "    gray = cv2.cvtColor(frame, cv2.COLOR_BGR2GRAY)\n",
    "    \n",
    "    # ScaleFactor：每次搜尋方塊減少的比例\n",
    "    # minNeighbers：每個目標至少檢測到幾次以上，才可被認定是真數據。\n",
    "    # minSize：設定數據搜尋的最小尺寸 ，如 minSize=(40,40)\n",
    "\n",
    "    faces = face_cascade.detectMultiScale(gray, scaleFactor = 1.12, minNeighbors = 5, minSize = (32, 32))\n",
    "    \n",
    "    for fc in faces:   # 取得偵測到的人臉位置\n",
    "        x, y, w, h = fc\n",
    "         # 劃出人臉位置\n",
    "        frame = cv2.rectangle(frame, (x - 10, y - 10), (x + w + 10, y + h + 10), (255,0,0), 2)\n",
    "        \n",
    "        roi_gray = gray[y:y+h, x:x+w]\n",
    "        eyes = eye_cascade.detectMultiScale(roi_gray,scaleFactor=1.08,minNeighbors=5,minSize=(30,30),)\n",
    "        \n",
    "        for (ex,ey,ew,eh) in eyes:\n",
    "            frame = cv2.rectangle(frame,(x+ex,y+ey),(x+ex+ew,y+ey+eh),(0,255,0),2)\n",
    "    \n",
    "    # 顯示圖片\n",
    "    cv2.imshow('FaceDetect',frame)\n",
    "    cv2.waitKey(5)\n",
    "    \n",
    "    if len(faces) == 1 and len(eyes) == 2:\n",
    "        print(\"Detected\")\n",
    "        if cv2.waitKey(0):\n",
    "            break\n",
    "    \n",
    "# 釋放攝影機\n",
    "cap.release()\n",
    "\n",
    "# 關閉所有 OpenCV 視窗\n",
    "cv2.destroyAllWindows()"
   ]
  },
  {
   "cell_type": "code",
   "execution_count": null,
   "metadata": {},
   "outputs": [],
   "source": []
  }
 ],
 "metadata": {
  "kernelspec": {
   "display_name": "Python 3",
   "language": "python",
   "name": "python3"
  },
  "language_info": {
   "codemirror_mode": {
    "name": "ipython",
    "version": 3
   },
   "file_extension": ".py",
   "mimetype": "text/x-python",
   "name": "python",
   "nbconvert_exporter": "python",
   "pygments_lexer": "ipython3",
   "version": "3.8.5"
  }
 },
 "nbformat": 4,
 "nbformat_minor": 4
}
